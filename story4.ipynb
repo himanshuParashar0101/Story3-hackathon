{
 "cells": [
  {
   "cell_type": "code",
   "execution_count": 1,
   "metadata": {},
   "outputs": [
    {
     "name": "stdout",
     "output_type": "stream",
     "text": [
      "New Story created successfully: {'hashId': 'DylLQoLLv2o9jdkY', 'authorId': '1932', 'title': 'The Cosmic Odyssey', 'body': \"In the vast expanse of the cosmos, a lone explorer named Nova embarks on a cosmic odyssey. Guided by ancient star maps and propelled by a sentient spacecraft, Nova ventures into uncharted galaxies. Each star system holds secrets of civilizations long forgotten, and each nebula conceals cosmic wonders beyond imagination.\\n\\nAs Nova travels deeper into the cosmos, they encounter celestial beings, cosmic anomalies, and interstellar phenomena. The fabric of space and time becomes a tapestry woven with the threads of destiny. Nova's journey is not merely a quest for exploration, but a revelation of the interconnectedness of the universe.\\n\\nThrough wormholes and across event horizons, Nova discovers a cosmic symphony resonating through the cosmos. The odyssey becomes a transformative experience, blurring the boundaries between the explorer and the explored. In the heart of a distant galaxy, Nova confronts the enigma of existence itself, unlocking the secrets of the cosmic tapestry.\", 'lang': 'en', 'createdAt': '2024-01-07T14:26:38.676Z', 'updatedAt': '2024-01-07T14:26:38.676Z', 'status': 'draft', 'monetization_option': 'dynamic'}\n"
     ]
    }
   ],
   "source": [
    "import requests\n",
    "\n",
    "# URL for creating a new story\n",
    "stories_url = 'https://story3.com/api/v2/stories'\n",
    "\n",
    "# New story data\n",
    "new_story_data = {\n",
    "    'title': 'The Cosmic Odyssey',\n",
    "    'body': (\n",
    "        \"In the vast expanse of the cosmos, a lone explorer named Nova embarks on a cosmic odyssey. \"\n",
    "        \"Guided by ancient star maps and propelled by a sentient spacecraft, Nova ventures into uncharted galaxies. \"\n",
    "        \"Each star system holds secrets of civilizations long forgotten, and each nebula conceals cosmic wonders beyond imagination.\\n\\n\"\n",
    "        \"As Nova travels deeper into the cosmos, they encounter celestial beings, cosmic anomalies, and interstellar phenomena. \"\n",
    "        \"The fabric of space and time becomes a tapestry woven with the threads of destiny. Nova's journey is not merely a quest for exploration, \"\n",
    "        \"but a revelation of the interconnectedness of the universe.\\n\\n\"\n",
    "        \"Through wormholes and across event horizons, Nova discovers a cosmic symphony resonating through the cosmos. \"\n",
    "        \"The odyssey becomes a transformative experience, blurring the boundaries between the explorer and the explored. \"\n",
    "        \"In the heart of a distant galaxy, Nova confronts the enigma of existence itself, unlocking the secrets of the cosmic tapestry.\"\n",
    "    ),\n",
    "    'tags': ['Science Fiction', 'Space', 'Exploration', 'Cosmic'],\n",
    "}\n",
    "\n",
    "# Headers for authentication\n",
    "headers = {\n",
    "    'accept': 'application/json',\n",
    "    'x-auth-token': 'OXFyWEI2d0FSNW9FcGVkTjo3YTM3MDZlZGIxNzI3YTcyNTY1NjEyYjU1MjhlYmY5NDM4ZjE4M2IyMmZkMjViNmYzZTEzMGQ3Nzk1Yjc4N2Nm',  # Replace with your actual API key\n",
    "}\n",
    "\n",
    "# Make a POST request to create the new story\n",
    "response = requests.post(stories_url, headers=headers, json=new_story_data)\n",
    "\n",
    "if response.status_code == 201:\n",
    "    new_story_info = response.json()\n",
    "    print(f'New Story created successfully: {new_story_info}')\n",
    "else:\n",
    "    print(f'Error creating a new story. Status code: {response.status_code}')\n",
    "    print(f'Error response: {response.json()}')\n"
   ]
  },
  {
   "cell_type": "code",
   "execution_count": 2,
   "metadata": {},
   "outputs": [
    {
     "name": "stdout",
     "output_type": "stream",
     "text": [
      "New Twist created successfully: {'hashId': 'rm8DeK5rWlw9zagq', 'authorId': '1932', 'title': 'Harmony of Celestial Vibrations', 'body': \"As Nova delves deeper into the cosmic expanse, they encounter a sentient star cluster with the ability to communicate through ethereal vibrations. This celestial entity imparts ancient wisdom, revealing the interconnected nature of galaxies. Nova learns that each twinkle of a star is a cosmic language, and each galaxy is a verse in the poetry of the universe.\\n\\nGuided by the harmonies of the cosmos, Nova's spacecraft transforms into a cosmic instrument. Together, they compose symphonies that resonate across the galaxies, awakening dormant celestial beings and unlocking hidden realms. The odyssey becomes a cosmic dance, where the boundaries between explorer and universe blur, ushering in a new era of cosmic enlightenment.\", 'lang': 'en', 'createdAt': '2024-01-07T14:29:05.157Z', 'updatedAt': '2024-01-07T14:29:05.157Z', 'status': 'draft', 'monetization_option': 'dynamic', 'hashParentId': 'DylLQoLLv2o9jdkY', 'hashRootId': 'DylLQoLLv2o9jdkY', 'isExtraTwist': False, 'closestHashRootId': 'DylLQoLLv2o9jdkY'}\n"
     ]
    }
   ],
   "source": [
    "import requests\n",
    "\n",
    "# Use the hashId of the newly created story\n",
    "selected_story_hash = 'DylLQoLLv2o9jdkY'  # Replace this with your actual hashId\n",
    "\n",
    "# URL for creating a new twist\n",
    "twists_url = 'https://story3.com/api/v2/twists'\n",
    "\n",
    "# New twist data\n",
    "new_twist_data = {\n",
    "    'hashId': selected_story_hash,\n",
    "    'hashParentId': selected_story_hash,\n",
    "    'body': (\n",
    "        \"As Nova delves deeper into the cosmic expanse, they encounter a sentient star cluster with the ability to \"\n",
    "        \"communicate through ethereal vibrations. This celestial entity imparts ancient wisdom, revealing the \"\n",
    "        \"interconnected nature of galaxies. Nova learns that each twinkle of a star is a cosmic language, and each \"\n",
    "        \"galaxy is a verse in the poetry of the universe.\\n\\n\"\n",
    "        \"Guided by the harmonies of the cosmos, Nova's spacecraft transforms into a cosmic instrument. Together, they \"\n",
    "        \"compose symphonies that resonate across the galaxies, awakening dormant celestial beings and unlocking \"\n",
    "        \"hidden realms. The odyssey becomes a cosmic dance, where the boundaries between explorer and universe blur, \"\n",
    "        \"ushering in a new era of cosmic enlightenment.\"\n",
    "    ),\n",
    "    'title': 'Harmony of Celestial Vibrations',\n",
    "    'tags': ['Science Fiction', 'Cosmic', 'Exploration', 'Enlightenment'],\n",
    "}\n",
    "\n",
    "# Headers for authentication\n",
    "headers = {\n",
    "    'accept': 'application/json',\n",
    "    'x-auth-token': 'OXFyWEI2d0FSNW9FcGVkTjo3YTM3MDZlZGIxNzI3YTcyNTY1NjEyYjU1MjhlYmY5NDM4ZjE4M2IyMmZkMjViNmYzZTEzMGQ3Nzk1Yjc4N2Nm',  # Replace with your actual API key\n",
    "}\n",
    "\n",
    "# Make a POST request to create the new twist\n",
    "response = requests.post(twists_url, headers=headers, json=new_twist_data)\n",
    "\n",
    "if response.status_code == 201:\n",
    "    new_twist_info = response.json()\n",
    "    print(f'New Twist created successfully: {new_twist_info}')\n",
    "else:\n",
    "    print(f'Error creating a new twist. Status code: {response.status_code}')\n",
    "    print(f'Error response: {response.json()}')\n"
   ]
  },
  {
   "cell_type": "code",
   "execution_count": 6,
   "metadata": {},
   "outputs": [
    {
     "name": "stdout",
     "output_type": "stream",
     "text": [
      "Error publishing the story. Status code: 404\n",
      "Error response: {'statusCode': 404, 'requestId': '4d98b21cf2f3e34300182f3dfb485f12', 'message': 'Cannot POST /api/v2/stories/ylLQoLLv2o9jdkY/publish', 'error': 'Not Found'}\n"
     ]
    }
   ],
   "source": [
    "import requests\n",
    "\n",
    "# Use the hashId of the story you want to publish\n",
    "selected_story_hash = 'DylLQoLLv2o9jdkY'  # Replace this with your actual hashId\n",
    "\n",
    "# URL for publishing a story\n",
    "publish_url = f'https://story3.com/api/v2/stories/ylLQoLLv2o9jdkY/publish'\n",
    "\n",
    "# Headers for authentication\n",
    "headers = {\n",
    "    'accept': 'application/json',\n",
    "    'x-auth-token': 'OXFyWEI2d0FSNW9FcGVkTjo3YTM3MDZlZGIxNzI3YTcyNTY1NjEyYjU1MjhlYmY5NDM4ZjE4M2IyMmZkMjViNmYzZTEzMGQ3Nzk1Yjc4N2Nm',  # Replace with your actual API key\n",
    "}\n",
    "\n",
    "# Make a POST request to publish the story\n",
    "response = requests.post(publish_url, headers=headers)\n",
    "\n",
    "if response.status_code == 200:\n",
    "    print('Story published successfully!')\n",
    "else:\n",
    "    print(f'Error publishing the story. Status code: {response.status_code}')\n",
    "    print(f'Error response: {response.json()}')\n"
   ]
  },
  {
   "cell_type": "code",
   "execution_count": 12,
   "metadata": {},
   "outputs": [
    {
     "name": "stdout",
     "output_type": "stream",
     "text": [
      "Error publishing the story. Status code: 400\n",
      "Error response: {'statusCode': 400, 'requestId': '5599d302ccf2d8aa64e4f87d5572ded4', 'message': 'empty_request_body_not_allowed', 'error': 'Bad Request'}\n"
     ]
    }
   ],
   "source": [
    "\n",
    "publish_url = f'https://story3.com/api/v2/stories/DylLQoLLv2o9jdkY'\n",
    "\n",
    "# New status to indicate the story is ready for publishing (you may need to check the API documentation for the correct status)\n",
    "new_status = {\n",
    "    'status': 'published',\n",
    "}\n",
    "\n",
    "# Make a PATCH request to update the story status\n",
    "response = requests.patch(publish_url, headers=headers, json=new_status)\n",
    "\n",
    "if response.status_code == 200:\n",
    "    print('Story published successfully!')\n",
    "else:\n",
    "    print(f'Error publishing the story. Status code: {response.status_code}')\n",
    "    print(f'Error response: {response.json()}')\n"
   ]
  },
  {
   "cell_type": "code",
   "execution_count": 13,
   "metadata": {},
   "outputs": [
    {
     "name": "stdout",
     "output_type": "stream",
     "text": [
      "Error publishing the story. Status code: 500\n",
      "Error response: {'statusCode': 500, 'requestId': '6fe81237a96f1c7ec817cc1b0e16f6e2', 'message': 'Internal Server Error'}\n"
     ]
    }
   ],
   "source": [
    "import json\n",
    "\n",
    "# Assuming selected_story_hash is the hashId of your story\n",
    "publish_url = f'https://story3.com/api/v2/stories/DylLQoLLv2o9jdkY'\n",
    "\n",
    "# New status to indicate the story is ready for publishing (you may need to check the API documentation for the correct status)\n",
    "new_status = {\n",
    "    'status': 'published',\n",
    "}\n",
    "\n",
    "# Make a PATCH request to update the story status\n",
    "response = requests.patch(publish_url, headers=headers, data=json.dumps(new_status))\n",
    "\n",
    "if response.status_code == 200:\n",
    "    print('Story published successfully!')\n",
    "else:\n",
    "    print(f'Error publishing the story. Status code: {response.status_code}')\n",
    "    print(f'Error response: {response.json()}')\n"
   ]
  },
  {
   "cell_type": "code",
   "execution_count": null,
   "metadata": {},
   "outputs": [],
   "source": []
  }
 ],
 "metadata": {
  "kernelspec": {
   "display_name": "Python 3",
   "language": "python",
   "name": "python3"
  },
  "language_info": {
   "codemirror_mode": {
    "name": "ipython",
    "version": 3
   },
   "file_extension": ".py",
   "mimetype": "text/x-python",
   "name": "python",
   "nbconvert_exporter": "python",
   "pygments_lexer": "ipython3",
   "version": "3.12.0"
  }
 },
 "nbformat": 4,
 "nbformat_minor": 2
}
