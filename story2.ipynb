{
 "cells": [
  {
   "cell_type": "code",
   "execution_count": 1,
   "metadata": {},
   "outputs": [],
   "source": [
    "api_key = 'OXFyWEI2d0FSNW9FcGVkTjo3YTM3MDZlZGIxNzI3YTcyNTY1NjEyYjU1MjhlYmY5NDM4ZjE4M2IyMmZkMjViNmYzZTEzMGQ3Nzk1Yjc4N2Nm'"
   ]
  },
  {
   "cell_type": "code",
   "execution_count": 3,
   "metadata": {},
   "outputs": [
    {
     "name": "stdout",
     "output_type": "stream",
     "text": [
      "New Story created successfully: {'hashId': '7WqORJqeQOJXLmVB', 'authorId': '1932', 'title': 'Echoes of Eternity', 'body': \"In the quaint town of Serenity Falls, nestled between mist-covered mountains, a mysterious event occurs every century. As the clock strikes midnight on the eve of the winter solstice, a celestial phenomenon unfolds, casting a mesmerizing glow across the entire town. During this ethereal moment, the townsfolk witness echoes from the past and glimpses into the future.\\n\\nOur protagonist, a young historian named Alex, becomes intrigued by the phenomenon. Alex delves into the town's ancient archives, discovering a forgotten legend that hints at the origin of these otherworldly echoes. Determined to unravel the mystery, Alex embarks on a quest that takes them through hidden chambers, ancient manuscripts, and encounters with enigmatic beings.\\n\\nAs Alex gets closer to uncovering the truth, they find themselves entangled in a cosmic dance between time and destiny. The echoes reveal secrets that challenge the very fabric of reality, testing the limits of belief and pushing Alex to confront the consequences of unraveling the threads of eternity.\", 'lang': 'en', 'createdAt': '2024-01-07T12:56:39.580Z', 'updatedAt': '2024-01-07T12:56:39.580Z', 'status': 'draft', 'monetization_option': 'dynamic'}\n"
     ]
    }
   ],
   "source": [
    "import requests\n",
    "\n",
    "# URL for creating a new story\n",
    "stories_url = 'https://story3.com/api/v2/stories'\n",
    "headers = {\n",
    "    'accept': 'application/json',\n",
    "    'x-auth-token':'OXFyWEI2d0FSNW9FcGVkTjo3YTM3MDZlZGIxNzI3YTcyNTY1NjEyYjU1MjhlYmY5NDM4ZjE4M2IyMmZkMjViNmYzZTEzMGQ3Nzk1Yjc4N2Nm'\n",
    ",  # Replace with your actual API key\n",
    "    'Content-Type': 'application/json',\n",
    "}\n",
    "\n",
    "new_story_data = {\n",
    "    'body': (\n",
    "        \"In the quaint town of Serenity Falls, nestled between mist-covered mountains, \"\n",
    "        \"a mysterious event occurs every century. As the clock strikes midnight on the eve \"\n",
    "        \"of the winter solstice, a celestial phenomenon unfolds, casting a mesmerizing glow \"\n",
    "        \"across the entire town. During this ethereal moment, the townsfolk witness echoes from \"\n",
    "        \"the past and glimpses into the future.\\n\\n\"\n",
    "        \"Our protagonist, a young historian named Alex, becomes intrigued by the phenomenon. \"\n",
    "        \"Alex delves into the town's ancient archives, discovering a forgotten legend that hints \"\n",
    "        \"at the origin of these otherworldly echoes. Determined to unravel the mystery, Alex embarks \"\n",
    "        \"on a quest that takes them through hidden chambers, ancient manuscripts, and encounters \"\n",
    "        \"with enigmatic beings.\\n\\n\"\n",
    "        \"As Alex gets closer to uncovering the truth, they find themselves entangled in a cosmic \"\n",
    "        \"dance between time and destiny. The echoes reveal secrets that challenge the very fabric \"\n",
    "        \"of reality, testing the limits of belief and pushing Alex to confront the consequences of \"\n",
    "        \"unraveling the threads of eternity.\"\n",
    "    ),\n",
    "    'title': 'Echoes of Eternity',\n",
    "    'tags': ['Fantasy', 'Mystery', 'Time Travel', 'Adventure', 'Supernatural'],\n",
    "}\n",
    "\n",
    "response = requests.post(stories_url, headers=headers, json=new_story_data)\n",
    "\n",
    "if response.status_code == 201:\n",
    "    new_story_info = response.json()\n",
    "    print(f'New Story created successfully: {new_story_info}')\n",
    "else:\n",
    "    print(f'Error creating a new story. Status code: {response.status_code}')\n",
    "    print(f'Error response: {response.json()}')\n"
   ]
  },
  {
   "cell_type": "code",
   "execution_count": 8,
   "metadata": {},
   "outputs": [
    {
     "name": "stdout",
     "output_type": "stream",
     "text": [
      "New Twist created successfully: {'hashId': 'makjrwvX3PJZLWbG', 'authorId': '1932', 'title': 'Harmony in Celestial Whispers', 'body': 'As the echoes of eternity reverberate through Serenity Falls, a mysterious figure emerges from the celestial glow. This enigmatic being holds a key to unlocking the true potential of the echoes, guiding Alex on a journey beyond the realms of time. Together, they unravel ancient prophecies and face cosmic challenges, discovering the interconnectedness of every moment in the tapestry of existence.', 'lang': 'en', 'createdAt': '2024-01-07T13:00:39.874Z', 'updatedAt': '2024-01-07T13:00:39.874Z', 'status': 'draft', 'monetization_option': 'dynamic', 'hashParentId': '7WqORJqeQOJXLmVB', 'hashRootId': '7WqORJqeQOJXLmVB', 'isExtraTwist': False, 'closestHashRootId': '7WqORJqeQOJXLmVB'}\n"
     ]
    }
   ],
   "source": [
    "import requests\n",
    "\n",
    "# Use the hashId of the newly created story\n",
    "selected_story_hash = '7WqORJqeQOJXLmVB'\n",
    "\n",
    "# URL for creating a new twist\n",
    "twists_url = 'https://story3.com/api/v2/twists'\n",
    "headers = {\n",
    "    'accept': 'application/json',\n",
    "    'x-auth-token': api_key,\n",
    "    'Content-Type': 'application/json',\n",
    "}\n",
    "\n",
    "new_twist_data = {\n",
    "    'hashParentId': selected_story_hash,  # Fix: Use 'hashParentId' instead of 'hashId'\n",
    "    'body': (\n",
    "        \"As the echoes of eternity reverberate through Serenity Falls, a mysterious figure emerges \"\n",
    "        \"from the celestial glow. This enigmatic being holds a key to unlocking the true potential \"\n",
    "        \"of the echoes, guiding Alex on a journey beyond the realms of time. Together, they unravel \"\n",
    "        \"ancient prophecies and face cosmic challenges, discovering the interconnectedness of every \"\n",
    "        \"moment in the tapestry of existence.\"\n",
    "    ),\n",
    "    'title': 'Harmony in Celestial Whispers',\n",
    "    'tags': ['Fantasy', 'Adventure', 'Mystery', 'Time Travel'],\n",
    "}\n",
    "\n",
    "response = requests.post(twists_url, headers=headers, json=new_twist_data)\n",
    "\n",
    "if response.status_code == 201:\n",
    "    new_twist_info = response.json()\n",
    "    print(f'New Twist created successfully: {new_twist_info}')\n",
    "else:\n",
    "    print(f'Error creating a new twist. Status code: {response.status_code}')\n",
    "    try:\n",
    "        error_response_json = response.json()\n",
    "        print(f'Error response: {error_response_json}')\n",
    "    except Exception as e:\n",
    "        print(f'Error decoding JSON response: {e}')\n",
    "        print(f'Raw response content: {response.content}')\n"
   ]
  },
  {
   "cell_type": "code",
   "execution_count": 18,
   "metadata": {},
   "outputs": [
    {
     "name": "stdout",
     "output_type": "stream",
     "text": [
      "Error publishing the twist. Status code: 400\n",
      "Error response content: {\"statusCode\":400,\"requestId\":\"9b8ddee5c955924cf64c8fc44fd5c9db\",\"message\":\"Unexpected end of JSON input\",\"error\":\"Bad Request\"}\n",
      "Attempt 1: Status code: 404\n",
      "Attempt 2: Status code: 404\n",
      "Attempt 3: Status code: 404\n",
      "Attempt 4: Status code: 404\n",
      "Attempt 5: Status code: 404\n",
      "Maximum attempts reached. Please check the status later.\n"
     ]
    }
   ],
   "source": [
    "import requests\n",
    "import time\n",
    "\n",
    "# ... (previous code)\n",
    "\n",
    "# Use the hashId of the newly created twist\n",
    "twist_hash_to_publish = 'makjrwvX3PJZLWbG'  # Replace this with your actual hashId\n",
    "\n",
    "# URL for publishing a twist\n",
    "publish_twist_url = f'https://story3.com/api/v2/twists/{twist_hash_to_publish}/publish'\n",
    "\n",
    "# Make a POST request to publish the twist\n",
    "publish_response = requests.post(publish_twist_url, headers=headers)\n",
    "\n",
    "if publish_response.status_code == 200:\n",
    "    print(f'Twist successfully published: {publish_response.json()}')\n",
    "else:\n",
    "    print(f'Error publishing the twist. Status code: {publish_response.status_code}')\n",
    "    try:\n",
    "        error_response_content = publish_response.content.decode('utf-8')\n",
    "        print(f'Error response content: {error_response_content}')\n",
    "    except Exception as e:\n",
    "        print(f'Error decoding response content: {e}')\n",
    "\n",
    "    # Introduce a loop to check the status with a maximum number of attempts\n",
    "    max_attempts = 5  # You can adjust the maximum number of attempts\n",
    "    for attempt in range(max_attempts):\n",
    "        # Introduce a delay between attempts (you can adjust the duration)\n",
    "        time.sleep(5)  # 5 seconds delay between attempts\n",
    "\n",
    "        # Make a GET request to check the status\n",
    "        status_response = requests.get(publish_twist_url, headers=headers)\n",
    "\n",
    "        if status_response.status_code == 200:\n",
    "            print(f'Twist successfully published: {status_response.json()}')\n",
    "            break  # Exit the loop if successful\n",
    "        else:\n",
    "            print(f'Attempt {attempt + 1}: Status code: {status_response.status_code}')\n",
    "\n",
    "    else:\n",
    "        print('Maximum attempts reached. Please check the status later.')\n",
    "\n",
    "# Perform any subsequent actions here\n"
   ]
  },
  {
   "cell_type": "code",
   "execution_count": null,
   "metadata": {},
   "outputs": [],
   "source": []
  }
 ],
 "metadata": {
  "kernelspec": {
   "display_name": "Python 3",
   "language": "python",
   "name": "python3"
  },
  "language_info": {
   "codemirror_mode": {
    "name": "ipython",
    "version": 3
   },
   "file_extension": ".py",
   "mimetype": "text/x-python",
   "name": "python",
   "nbconvert_exporter": "python",
   "pygments_lexer": "ipython3",
   "version": "3.12.0"
  }
 },
 "nbformat": 4,
 "nbformat_minor": 2
}
