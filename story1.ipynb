{
 "cells": [
  {
   "cell_type": "code",
   "execution_count": 2,
   "metadata": {},
   "outputs": [
    {
     "name": "stdout",
     "output_type": "stream",
     "text": [
      "Requirement already satisfied: requests in c:\\python312\\lib\\site-packages (2.31.0)\n",
      "Requirement already satisfied: charset-normalizer<4,>=2 in c:\\python312\\lib\\site-packages (from requests) (3.3.2)\n",
      "Requirement already satisfied: idna<4,>=2.5 in c:\\python312\\lib\\site-packages (from requests) (3.6)\n",
      "Requirement already satisfied: urllib3<3,>=1.21.1 in c:\\python312\\lib\\site-packages (from requests) (2.1.0)\n",
      "Requirement already satisfied: certifi>=2017.4.17 in c:\\python312\\lib\\site-packages (from requests) (2023.11.17)\n",
      "Note: you may need to restart the kernel to use updated packages.\n"
     ]
    }
   ],
   "source": [
    "pip install requests\n"
   ]
  },
  {
   "cell_type": "code",
   "execution_count": 3,
   "metadata": {},
   "outputs": [
    {
     "name": "stdout",
     "output_type": "stream",
     "text": [
      "Requirement already satisfied: pip in c:\\users\\himan\\appdata\\roaming\\python\\python312\\site-packages (23.3.2)\n",
      "Note: you may need to restart the kernel to use updated packages.\n"
     ]
    }
   ],
   "source": [
    "pip install --upgrade pip"
   ]
  },
  {
   "cell_type": "code",
   "execution_count": 4,
   "metadata": {},
   "outputs": [
    {
     "name": "stdout",
     "output_type": "stream",
     "text": [
      "Available Stories:\n",
      "- Whispers of Friendship: A Picnic Tale (ID: zlaY9JdnMqwGOPME)\n",
      "- The Cat from Tokyo: A Tale of Terror (ID: QNePGwQa6QwLyBnD)\n",
      "- Mountain Expedition and Encounter with Yeti (ID: makjrwvxm8JZLWbG)\n",
      "- Shadow City Blues (ID: X6BVdwOymXJ1ZQ9Y)\n",
      "- The Curious Boy and the Secret World of Science Fiction (ID: DylLQoLY2dJ9jdkY)\n"
     ]
    }
   ],
   "source": [
    "import requests\n",
    "\n",
    "# Set the API endpoint URL for getting stories\n",
    "api_url = \"https://story3.com/api/v2/stories\"\n",
    "\n",
    "# Make the API request to get available stories\n",
    "response = requests.get(api_url)\n",
    "\n",
    "# Check the response status\n",
    "if response.status_code == 200:\n",
    "    # Extract and print the list of available stories\n",
    "    available_stories = response.json()\n",
    "    print(\"Available Stories:\")\n",
    "    for story in available_stories:\n",
    "        print(f\"- {story['title']} (ID: {story['hashId']})\")\n",
    "else:\n",
    "    print(f\"Failed to get available stories. Status code: {response.status_code}\")\n",
    "    print(response.json())  # Print the response for more details\n"
   ]
  },
  {
   "cell_type": "code",
   "execution_count": 6,
   "metadata": {},
   "outputs": [
    {
     "name": "stdout",
     "output_type": "stream",
     "text": [
      "Story Details:\n",
      "- Title: N/A\n",
      "- Description: N/A\n",
      "- Author: N/A\n",
      "- Number of Twists: 0\n"
     ]
    }
   ],
   "source": [
    "import requests\n",
    "\n",
    "# Set the API endpoint URL for getting details of a specific story\n",
    "api_url = \"https://story3.com/api/v2/stories/makjrwvxm8JZLWbG\"\n",
    "\n",
    "# Make the API request to get details of the selected story\n",
    "response = requests.get(api_url)\n",
    "\n",
    "# Check the response status\n",
    "if response.status_code == 200:\n",
    "    try:\n",
    "        # Extract and print the details of the selected story\n",
    "        story_details = response.json()\n",
    "        print(\"Story Details:\")\n",
    "        print(f\"- Title: {story_details.get('title', 'N/A')}\")\n",
    "        print(f\"- Description: {story_details.get('description', 'N/A')}\")\n",
    "        print(f\"- Author: {story_details.get('author', 'N/A')}\")\n",
    "        print(f\"- Number of Twists: {len(story_details.get('twists', []))}\")\n",
    "    except Exception as e:\n",
    "        print(f\"Error processing response: {e}\")\n",
    "else:\n",
    "    print(f\"Failed to get details of the selected story. Status code: {response.status_code}\")\n",
    "    print(response.text)  # Print the response for more details\n"
   ]
  },
  {
   "cell_type": "code",
   "execution_count": 20,
   "metadata": {},
   "outputs": [
    {
     "name": "stdout",
     "output_type": "stream",
     "text": [
      "Error: 404 Client Error: Not Found for url: https://story3.com/api/v2/users/me\n"
     ]
    }
   ],
   "source": [
    "import requests\n",
    "\n",
    "# Replace 'YOUR_API_KEY' with your actual API key\n",
    "api_key = 'OXFyWEI2d0FSNW9FcGVkTjo3YTM3MDZlZGIxNzI3YTcyNTY1NjEyYjU1MjhlYmY5NDM4ZjE4M2IyMmZkMjViNmYzZTEzMGQ3Nzk1Yjc4N2Nm'\n",
    "\n",
    "# API endpoint for obtaining an access token\n",
    "token_url = 'https://story3.com/api/v2/users/me'\n",
    "\n",
    "headers = {\n",
    "    'x-auth-token': api_key,\n",
    "}\n",
    "\n",
    "try:\n",
    "    # Make a POST request to obtain the access token\n",
    "    response = requests.post(token_url, headers=headers)\n",
    "    response.raise_for_status()  # Check for errors\n",
    "\n",
    "    # Parse the response to get the access token\n",
    "    access_token = response.json().get('access_token')\n",
    "\n",
    "    # Print the obtained access token\n",
    "    print(f\"Access Token: {access_token}\")\n",
    "\n",
    "except requests.exceptions.RequestException as e:\n",
    "    print(f\"Error: {e}\")\n"
   ]
  },
  {
   "cell_type": "code",
   "execution_count": 21,
   "metadata": {},
   "outputs": [],
   "source": [
    "import requests\n"
   ]
  },
  {
   "cell_type": "code",
   "execution_count": 22,
   "metadata": {},
   "outputs": [],
   "source": [
    "api_key = 'OXFyWEI2d0FSNW9FcGVkTjo3YTM3MDZlZGIxNzI3YTcyNTY1NjEyYjU1MjhlYmY5NDM4ZjE4M2IyMmZkMjViNmYzZTEzMGQ3Nzk1Yjc4N2Nm'"
   ]
  },
  {
   "cell_type": "code",
   "execution_count": 23,
   "metadata": {},
   "outputs": [
    {
     "name": "stdout",
     "output_type": "stream",
     "text": [
      "List of available stories: [{'hashId': 'zlaY9JdnMqwGOPME', 'body': \"As the golden rays of the afternoon sun painted the park in warmth, Jim and his loyal companion, Dusky, reveled in the simple joys of a perfect day, their laughter echoing amidst the rustling leaves as they shared a delightful picnic on their favorite patch of green. The young boy's eyes sparkled with excitement as he spread out a colorful blanket, carefully arranging an array of delicious treats upon it - freshly baked sandwiches, juicy fruits, and crunchy chips, all neatly packed into wicker hampers by his loving mother. But for now, Jim was content to simply bask in the glow of the sunlight filtering through the trees while watching Dusky, his faithful four-legged friend, bound around playfully, tail wagging furiously at this new adventure they were sharing together.\", 'title': 'Whispers of Friendship: A Picnic Tale', 'tags': [\"Children's Books\", 'Contemporary', 'Slice-Of-Life', 'Nature', 'Friendship'], 'nickname': 'Hypnotic'}, {'hashId': 'QNePGwQa6QwLyBnD', 'body': \"The boy was scared when the cat followed him home, but he decided to let it in anyway. Little did he know that the cat was actually a spirit from the streets of Tokyo, cursed to wander the city forever. Every night, the cat would come to the boy's window and stare at him with its eerie, glowing eyes. The boy was terrified, but he couldn't bring himself to get rid of the cat. He was sure that if he did, something terrible would happen. He was right. One night, the cat transformed into a giant, monstrous creature and attacked the boy. Fortunately, the boy was able to escape, but he never forgot the horror of that night.\", 'title': 'The Cat from Tokyo: A Tale of Terror', 'tags': ['Mystery', 'Horror', 'Paranormal', 'Suspense', 'Urban Fantasy'], 'nickname': 'ayushsaxena'}, {'hashId': 'makjrwvxm8JZLWbG', 'body': \"Radha had been dreaming of scaling the Annapurna ranges for years. She had trained hard and was finally ready to take on the challenge. As she made her way up the mountain, she felt a sense of accomplishment and joy. But her joy was short-lived when an avalanche suddenly came crashing down the mountain. Radha was terrified and thought she was going to die. But then, out of the snow, emerged a mysterious figure. It was a Yeti! Radha was amazed and scared at the same time. The Yeti seemed friendly and curious, and Radha slowly began to trust it. They talked for hours, and Radha learned about the Yeti's life in the mountains. She was fascinated by its stories and the way it had adapted to its environment. When it was time to go, Radha thanked the Yeti for the wonderful experience and promised to come back soon.\", 'title': 'Mountain Expedition and Encounter with Yeti', 'tags': ['Fiction', 'Friendship', 'Adventure', 'Fantasy', 'Myths'], 'nickname': 'Techiees'}, {'hashId': 'X6BVdwOymXJ1ZQ9Y', 'body': \"In the midst of this dystopian metropolis was a lone figure shrouded by an oversized trenchcoat, its hood pulled low over their face as they navigated through the crowds of people moving along the sidewalks. The figure seemed out of place amidst the bright lights and constant buzz of activity, yet no one paid them any mind. They were just another shadow among many in this ever-evolving cityscape.\\n\\nAs they moved deeper into the heart of the city, the figure couldn't help but feel a growing sense of unease. It wasn't just the oppressive weight of the endless concrete canyons or the omnipresent surveillance cameras tracking their every move; there was something else in the air tonight – a palpable tension that hung like smog over the city's skyline.\\n\", 'title': 'Shadow City Blues', 'tags': ['Fiction', 'Suspense', 'Mystery', 'Dystopian', 'Thriller'], 'nickname': 'Hypnotic'}, {'hashId': 'DylLQoLY2dJ9jdkY', 'body': 'The boy was curious about the strange sound he heard every night. He decided to investigate and find out what it was. He ventured out into the night, and soon found himself in a mysterious forest. He was amazed to find that the forest was filled with strange creatures and plants that he had never seen before. He soon realized that he had stumbled upon a secret world of science fiction and adventure. He explored the forest, discovering new and exciting things, and eventually found the source of the strange sound. It was a portal to a distant world, and the boy was determined to explore it. He stepped through the portal and found himself in a world of adventure and science fiction. He spent the rest of his days exploring this new world, and learning all he could about its secrets.', 'title': 'The Curious Boy and the Secret World of Science Fiction', 'tags': ['Adventure', 'Mystery', 'Fiction', 'Science', 'Fantasy'], 'nickname': 'ayushsaxena'}]\n"
     ]
    }
   ],
   "source": [
    "stories_url = 'https://story3.com/api/v2/stories'\n",
    "headers = {\n",
    "    'accept': 'application/json',\n",
    "    'x-auth-token': api_key,\n",
    "}\n",
    "\n",
    "response = requests.get(stories_url, headers=headers)\n",
    "\n",
    "if response.status_code == 200:\n",
    "    available_stories = response.json()\n",
    "    print(f'List of available stories: {available_stories}')\n",
    "else:\n",
    "    print(f'Error retrieving available stories. Status code: {response.status_code}')\n"
   ]
  },
  {
   "cell_type": "code",
   "execution_count": 24,
   "metadata": {},
   "outputs": [],
   "source": [
    "selected_story_hash = 'X6BVdwOymXJ1ZQ9Y'  # Replace with the hashId of \"Shadow City Blues\"\n"
   ]
  },
  {
   "cell_type": "code",
   "execution_count": 25,
   "metadata": {},
   "outputs": [
    {
     "name": "stdout",
     "output_type": "stream",
     "text": [
      "Error creating a new twist. Status code: 400\n"
     ]
    }
   ],
   "source": [
    "import requests\n",
    "\n",
    "twists_url = 'https://story3.com/api/v2/twists'\n",
    "headers = {\n",
    "    'accept': 'application/json',\n",
    "    'x-auth-token': api_key,\n",
    "    'Content-Type': 'application/json',\n",
    "}\n",
    "\n",
    "selected_story_hash = 'X6BVdwOymXJ1ZQ9Y'  # Use the hashId of the selected story\n",
    "\n",
    "new_twist_data = {\n",
    "    'hashId': selected_story_hash,\n",
    "    'body': (\n",
    "        \"Amidst the shadows of the city, a mysterious artifact was discovered by our protagonist. \"\n",
    "        \"This artifact held the key to unlocking forgotten memories and revealing a hidden truth \"\n",
    "        \"about the city's dark past. As our protagonist delves deeper into the secrets, they encounter \"\n",
    "        \"a clandestine group determined to keep the truth buried. The journey unfolds with unexpected alliances, \"\n",
    "        \"betrayals, and a race against time to expose the city's mysteries before it's too late.\"\n",
    "    ),\n",
    "    'title': 'Revelations in the Shadows',\n",
    "    'tags': ['Mystery', 'Thriller', 'Conspiracy', 'Urban Fantasy'],\n",
    "}\n",
    "\n",
    "response = requests.post(twists_url, headers=headers, json=new_twist_data)\n",
    "\n",
    "if response.status_code == 201:\n",
    "    new_twist_info = response.json()\n",
    "    print(f'New Twist created successfully: {new_twist_info}')\n",
    "else:\n",
    "    print(f'Error creating a new twist. Status code: {response.status_code}')\n"
   ]
  },
  {
   "cell_type": "code",
   "execution_count": 26,
   "metadata": {},
   "outputs": [
    {
     "name": "stdout",
     "output_type": "stream",
     "text": [
      "Error creating a new twist. Status code: 400\n",
      "Error response: {'statusCode': 400, 'requestId': '67c2cb127c5dd870ebbe8cdc33bf9ccf', 'message': ['hashParentId must be a string', 'hashParentId must be longer than or equal to 1 characters'], 'error': 'Bad Request'}\n"
     ]
    }
   ],
   "source": [
    "import requests\n",
    "\n",
    "twists_url = 'https://story3.com/api/v2/twists'\n",
    "headers = {\n",
    "    'accept': 'application/json',\n",
    "    'x-auth-token': api_key,\n",
    "    'Content-Type': 'application/json',\n",
    "}\n",
    "\n",
    "selected_story_hash = 'X6BVdwOymXJ1ZQ9Y'  # Use the hashId of the selected story\n",
    "\n",
    "new_twist_data = {\n",
    "    'hashId': selected_story_hash,\n",
    "    'body': (\n",
    "        \"Amidst the shadows of the city, a mysterious artifact was discovered by our protagonist. \"\n",
    "        \"This artifact held the key to unlocking forgotten memories and revealing a hidden truth \"\n",
    "        \"about the city's dark past. As our protagonist delves deeper into the secrets, they encounter \"\n",
    "        \"a clandestine group determined to keep the truth buried. The journey unfolds with unexpected alliances, \"\n",
    "        \"betrayals, and a race against time to expose the city's mysteries before it's too late.\"\n",
    "    ),\n",
    "    'title': 'Revelations in the Shadows',\n",
    "    'tags': ['Mystery', 'Thriller', 'Conspiracy', 'Urban Fantasy'],\n",
    "}\n",
    "\n",
    "response = requests.post(twists_url, headers=headers, json=new_twist_data)\n",
    "\n",
    "if response.status_code == 201:\n",
    "    new_twist_info = response.json()\n",
    "    print(f'New Twist created successfully: {new_twist_info}')\n",
    "else:\n",
    "    print(f'Error creating a new twist. Status code: {response.status_code}')\n",
    "    print(f'Error response: {response.json()}')\n"
   ]
  },
  {
   "cell_type": "code",
   "execution_count": 27,
   "metadata": {},
   "outputs": [
    {
     "name": "stdout",
     "output_type": "stream",
     "text": [
      "New Twist created successfully: {'hashId': 'DG3LRJngRRKydO7v', 'authorId': '1932', 'title': 'Revelations in the Shadows', 'body': \"Amidst the shadows of the city, a mysterious artifact was discovered by our protagonist. This artifact held the key to unlocking forgotten memories and revealing a hidden truth about the city's dark past. As our protagonist delves deeper into the secrets, they encounter a clandestine group determined to keep the truth buried. The journey unfolds with unexpected alliances, betrayals, and a race against time to expose the city's mysteries before it's too late.\", 'lang': 'en', 'createdAt': '2024-01-06T22:08:41.055Z', 'updatedAt': '2024-01-06T22:08:41.055Z', 'status': 'draft', 'monetization_option': 'dynamic', 'hashParentId': 'X6BVdwOymXJ1ZQ9Y', 'hashRootId': 'X6BVdwOymXJ1ZQ9Y', 'isExtraTwist': False, 'closestHashRootId': 'X6BVdwOymXJ1ZQ9Y'}\n"
     ]
    }
   ],
   "source": [
    "import requests\n",
    "\n",
    "twists_url = 'https://story3.com/api/v2/twists'\n",
    "headers = {\n",
    "    'accept': 'application/json',\n",
    "    'x-auth-token': api_key,\n",
    "    'Content-Type': 'application/json',\n",
    "}\n",
    "\n",
    "selected_story_hash = 'X6BVdwOymXJ1ZQ9Y'  # Use the hashId of the selected story\n",
    "\n",
    "new_twist_data = {\n",
    "    'hashParentId': selected_story_hash,  # Use 'hashParentId' instead of 'hashId'\n",
    "    'body': (\n",
    "        \"Amidst the shadows of the city, a mysterious artifact was discovered by our protagonist. \"\n",
    "        \"This artifact held the key to unlocking forgotten memories and revealing a hidden truth \"\n",
    "        \"about the city's dark past. As our protagonist delves deeper into the secrets, they encounter \"\n",
    "        \"a clandestine group determined to keep the truth buried. The journey unfolds with unexpected alliances, \"\n",
    "        \"betrayals, and a race against time to expose the city's mysteries before it's too late.\"\n",
    "    ),\n",
    "    'title': 'Revelations in the Shadows',\n",
    "    'tags': ['Mystery', 'Thriller', 'Conspiracy', 'Urban Fantasy'],\n",
    "}\n",
    "\n",
    "response = requests.post(twists_url, headers=headers, json=new_twist_data)\n",
    "\n",
    "if response.status_code == 201:\n",
    "    new_twist_info = response.json()\n",
    "    print(f'New Twist created successfully: {new_twist_info}')\n",
    "else:\n",
    "    print(f'Error creating a new twist. Status code: {response.status_code}')\n",
    "    print(f'Error response: {response.json()}')\n"
   ]
  },
  {
   "cell_type": "code",
   "execution_count": 36,
   "metadata": {},
   "outputs": [
    {
     "name": "stdout",
     "output_type": "stream",
     "text": [
      "Twist details: {'hashId': 'DG3LRJngRRKydO7v', 'authorId': '1932', 'title': 'Revelations in the Shadows', 'body': \"Amidst the shadows of the city, a mysterious artifact was discovered by our protagonist. This artifact held the key to unlocking forgotten memories and revealing a hidden truth about the city's dark past. As our protagonist delves deeper into the secrets, they encounter a clandestine group determined to keep the truth buried. The journey unfolds with unexpected alliances, betrayals, and a race against time to expose the city's mysteries before it's too late.\", 'lang': 'en', 'createdAt': '2024-01-06T22:08:41.055Z', 'updatedAt': '2024-01-06T22:08:41.055Z', 'status': 'draft', 'monetization_option': 'dynamic', 'hashRootId': 'X6BVdwOymXJ1ZQ9Y', 'hashParentId': 'X6BVdwOymXJ1ZQ9Y', 'tags': ['Dystopian', 'Fiction', 'Mystery', 'Suspense', 'Thriller'], 'closestHashRootId': 'X6BVdwOymXJ1ZQ9Y', 'canBeFree': True}\n"
     ]
    }
   ],
   "source": [
    "import requests\n",
    "\n",
    "# Replace 'DG3LRJngRRKydO7v' with your actual twist hashId\n",
    "twist_hash_to_get = 'DG3LRJngRRKydO7v'\n",
    "\n",
    "# URL for getting a specific twist\n",
    "get_twist_url = f'https://story3.com/api/v2/twists/{twist_hash_to_get}'\n",
    "\n",
    "# Headers with your authentication token\n",
    "headers = {\n",
    "    'accept': 'application/json',\n",
    "    'x-auth-token': 'OXFyWEI2d0FSNW9FcGVkTjo3YTM3MDZlZGIxNzI3YTcyNTY1NjEyYjU1MjhlYmY5NDM4ZjE4M2IyMmZkMjViNmYzZTEzMGQ3Nzk1Yjc4N2Nm',  # Replace with your actual API key\n",
    "    'Authorization': 'OXFyWEI2d0FSNW9FcGVkTjo3YTM3MDZlZGIxNzI3YTcyNTY1NjEyYjU1MjhlYmY5NDM4ZjE4M2IyMmZkMjViNmYzZTEzMGQ3Nzk1Yjc4N2Nm',  # Replace with your actual API key\n",
    "}\n",
    "\n",
    "# Make a GET request to get the twist\n",
    "response = requests.get(get_twist_url, headers=headers)\n",
    "\n",
    "if response.status_code == 200:\n",
    "    twist_info = response.json()\n",
    "    print(f'Twist details: {twist_info}')\n",
    "else:\n",
    "    print(f'Error getting twist details. Status code: {response.status_code}')\n",
    "    print(f'Error response: {response.json()}')\n"
   ]
  },
  {
   "cell_type": "code",
   "execution_count": 37,
   "metadata": {},
   "outputs": [
    {
     "name": "stdout",
     "output_type": "stream",
     "text": [
      "Error publishing the twist. Status code: 400\n",
      "Error response: {'statusCode': 400, 'errorCode': 'story3.twist_already_analyzing', 'requestId': '2d5e2fdd0e4b2c96e63ad3340adeec76', 'message': 'The twist is currently being analyzed, wait for it', 'error': 'Bad Request'}\n"
     ]
    }
   ],
   "source": [
    "# Use the hashId of the newly created twist\n",
    "twist_hash_to_publish = 'DG3LRJngRRKydO7v'  # Replace this with your actual hashId\n",
    "\n",
    "# URL for publishing a twist\n",
    "publish_twist_url = f'https://story3.com/api/v2/twists/DG3LRJngRRKydO7v/publish'\n",
    "\n",
    "# Make a POST request to publish the twist\n",
    "publish_response = requests.post(publish_twist_url, headers=headers)\n",
    "\n",
    "if publish_response.status_code == 200:\n",
    "    print(f'Twist successfully published: {publish_response.json()}')\n",
    "else:\n",
    "    print(f'Error publishing the twist. Status code: {publish_response.status_code}')\n",
    "    try:\n",
    "        error_response_json = publish_response.json()\n",
    "        print(f'Error response: {error_response_json}')\n",
    "    except Exception as e:\n",
    "        print(f'Error decoding JSON response: {e}')\n",
    "        print(f'Raw response content: {publish_response.content}')\n"
   ]
  },
  {
   "cell_type": "code",
   "execution_count": 41,
   "metadata": {},
   "outputs": [
    {
     "name": "stdout",
     "output_type": "stream",
     "text": [
      "Error publishing the twist. Status code: 400\n",
      "Error response: {'statusCode': 400, 'errorCode': 'story3.twist_already_published', 'requestId': '65b4c47eb23a072a859b1456eaa6c299', 'message': 'Twist already published!', 'error': 'Bad Request'}\n"
     ]
    }
   ],
   "source": [
    "# Use the hashId of the newly created twist\n",
    "twist_hash_to_publish = 'DG3LRJngRRKydO7v'  # Replace this with your actual hashId\n",
    "\n",
    "# URL for publishing a twist\n",
    "publish_twist_url = f'https://story3.com/api/v2/twists/DG3LRJngRRKydO7v/publish'\n",
    "\n",
    "# Make a POST request to publish the twist\n",
    "publish_response = requests.post(publish_twist_url, headers=headers)\n",
    "\n",
    "if publish_response.status_code == 200:\n",
    "    print(f'Twist successfully published: {publish_response.json()}')\n",
    "else:\n",
    "    print(f'Error publishing the twist. Status code: {publish_response.status_code}')\n",
    "    try:\n",
    "        error_response_json = publish_response.json()\n",
    "        print(f'Error response: {error_response_json}')\n",
    "    except Exception as e:\n",
    "        print(f'Error decoding JSON response: {e}')\n",
    "        print(f'Raw response content: {publish_response.content}')"
   ]
  },
  {
   "cell_type": "code",
   "execution_count": null,
   "metadata": {},
   "outputs": [],
   "source": []
  }
 ],
 "metadata": {
  "kernelspec": {
   "display_name": "Python 3",
   "language": "python",
   "name": "python3"
  },
  "language_info": {
   "codemirror_mode": {
    "name": "ipython",
    "version": 3
   },
   "file_extension": ".py",
   "mimetype": "text/x-python",
   "name": "python",
   "nbconvert_exporter": "python",
   "pygments_lexer": "ipython3",
   "version": "3.12.0"
  }
 },
 "nbformat": 4,
 "nbformat_minor": 2
}
