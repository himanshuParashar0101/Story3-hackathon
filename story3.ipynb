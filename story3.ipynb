{
 "cells": [
  {
   "cell_type": "code",
   "execution_count": 1,
   "metadata": {},
   "outputs": [
    {
     "name": "stdout",
     "output_type": "stream",
     "text": [
      "New Story created successfully: {'hashId': 'VjRM6ob0XZKA8Q4y', 'authorId': '1932', 'title': 'The Enchanted Labyrinth', 'body': \"In a forgotten realm, hidden beneath the emerald canopies of an ancient forest, lies the entrance to the Enchanted Labyrinth. Legends speak of a magical maze that shifts its paths, guarded by mythical creatures and veiled in mystery.\\n\\nOur protagonist, a curious wanderer named Eliana, stumbles upon the entrance during a moonlit night. Drawn by an unseen force, she steps into the labyrinth, and the entrance behind her vanishes. The air is thick with enchantment as Eliana realizes she must navigate this maze to uncover its secrets.\\n\\nAs Eliana delves deeper, she encounters sentient trees that whisper ancient riddles, phosphorescent butterflies guiding the way, and elusive spirits testing her resolve. Each twist and turn brings her closer to the heart of the labyrinth, where a fabled treasure is said to grant the deepest desires of those who reach it.\\n\\nGuided by courage and curiosity, Eliana's journey through the Enchanted Labyrinth unfolds into a tale of magic, self-discovery, and the unwavering spirit to overcome the challenges that lie within.\", 'lang': 'en', 'createdAt': '2024-01-07T13:32:52.259Z', 'updatedAt': '2024-01-07T13:32:52.259Z', 'status': 'draft', 'monetization_option': 'dynamic'}\n"
     ]
    }
   ],
   "source": [
    "import requests\n",
    "\n",
    "# API key for authentication\n",
    "api_key = 'OXFyWEI2d0FSNW9FcGVkTjo3YTM3MDZlZGIxNzI3YTcyNTY1NjEyYjU1MjhlYmY5NDM4ZjE4M2IyMmZkMjViNmYzZTEzMGQ3Nzk1Yjc4N2Nm'  # Replace with your actual API key\n",
    "\n",
    "# URL for creating a new story\n",
    "stories_url = 'https://story3.com/api/v2/stories'\n",
    "\n",
    "# New story data\n",
    "new_story_data = {\n",
    "    'title': 'The Enchanted Labyrinth',\n",
    "    'body': (\n",
    "        \"In a forgotten realm, hidden beneath the emerald canopies of an ancient forest, lies the entrance to the Enchanted Labyrinth. \"\n",
    "        \"Legends speak of a magical maze that shifts its paths, guarded by mythical creatures and veiled in mystery.\\n\\n\"\n",
    "        \"Our protagonist, a curious wanderer named Eliana, stumbles upon the entrance during a moonlit night. \"\n",
    "        \"Drawn by an unseen force, she steps into the labyrinth, and the entrance behind her vanishes. \"\n",
    "        \"The air is thick with enchantment as Eliana realizes she must navigate this maze to uncover its secrets.\\n\\n\"\n",
    "        \"As Eliana delves deeper, she encounters sentient trees that whisper ancient riddles, phosphorescent butterflies guiding the way, \"\n",
    "        \"and elusive spirits testing her resolve. Each twist and turn brings her closer to the heart of the labyrinth, \"\n",
    "        \"where a fabled treasure is said to grant the deepest desires of those who reach it.\\n\\n\"\n",
    "        \"Guided by courage and curiosity, Eliana's journey through the Enchanted Labyrinth unfolds into a tale of magic, self-discovery, \"\n",
    "        \"and the unwavering spirit to overcome the challenges that lie within.\"\n",
    "    ),\n",
    "    'tags': ['Fantasy', 'Adventure', 'Magic', 'Mystery'],\n",
    "}\n",
    "\n",
    "# Headers for authentication\n",
    "headers = {\n",
    "    'accept': 'application/json',\n",
    "    'x-auth-token': api_key,\n",
    "}\n",
    "\n",
    "# Make a POST request to create the new story\n",
    "response = requests.post(stories_url, headers=headers, json=new_story_data)\n",
    "\n",
    "if response.status_code == 201:\n",
    "    new_story_info = response.json()\n",
    "    print(f'New Story created successfully: {new_story_info}')\n",
    "else:\n",
    "    print(f'Error creating a new story. Status code: {response.status_code}')\n",
    "    print(f'Error response: {response.json()}')\n"
   ]
  },
  {
   "cell_type": "code",
   "execution_count": 10,
   "metadata": {},
   "outputs": [
    {
     "name": "stdout",
     "output_type": "stream",
     "text": [
      "New Twist created successfully: {'hashId': '1LlO5JjaXQoyNxd3', 'authorId': '1932', 'title': 'The Crystal Revelation', 'body': \"Deep within the heart of the Enchanted Labyrinth, Eliana discovers a chamber bathed in ethereal light. In the center lies a pedestal with a crystal orb pulsating with magical energy. As she approaches, visions of the labyrinth's past and future flash before her eyes. The orb speaks, revealing the labyrinth's purpose—to test the courage and resolve of those who enter, granting the ultimate reward to those who reach its core.\\n\\nEliana faces challenges that blur the lines between reality and illusion. She encounters spectral guardians, echoes of past adventurers, and puzzles that require not only wit but a deep understanding of oneself. The labyrinth becomes a mirror reflecting Eliana's innermost desires and fears.\\n\\nAs she inches closer to the core, the labyrinth's magic intertwines with her destiny. The journey becomes a transformative experience, forging Eliana into a guardian of the labyrinth, bound to guide future wanderers through the challenges that await.\", 'lang': 'en', 'createdAt': '2024-01-07T13:49:35.612Z', 'updatedAt': '2024-01-07T13:49:35.612Z', 'status': 'draft', 'monetization_option': 'dynamic', 'hashParentId': 'VjRM6ob0XZKA8Q4y', 'hashRootId': 'VjRM6ob0XZKA8Q4y', 'isExtraTwist': False, 'closestHashRootId': 'VjRM6ob0XZKA8Q4y'}\n"
     ]
    }
   ],
   "source": [
    "import requests\n",
    "\n",
    "# Use the hashId of the newly created story\n",
    "selected_story_hash = 'VjRM6ob0XZKA8Q4y'  # Replace this with your actual hashId\n",
    "\n",
    "# URL for creating a new twist\n",
    "twists_url = 'https://story3.com/api/v2/twists'\n",
    "\n",
    "# New twist data\n",
    "new_twist_data = {\n",
    "    'hashId': selected_story_hash,\n",
    "    'hashParentId': selected_story_hash,  # Add this line\n",
    "    'body': (\n",
    "        \"Deep within the heart of the Enchanted Labyrinth, Eliana discovers a chamber bathed in ethereal light. \"\n",
    "        \"In the center lies a pedestal with a crystal orb pulsating with magical energy. As she approaches, visions of the labyrinth's past and future flash before her eyes. \"\n",
    "        \"The orb speaks, revealing the labyrinth's purpose—to test the courage and resolve of those who enter, granting the ultimate reward to those who reach its core.\\n\\n\"\n",
    "        \"Eliana faces challenges that blur the lines between reality and illusion. She encounters spectral guardians, echoes of past adventurers, \"\n",
    "        \"and puzzles that require not only wit but a deep understanding of oneself. The labyrinth becomes a mirror reflecting Eliana's innermost desires and fears.\\n\\n\"\n",
    "        \"As she inches closer to the core, the labyrinth's magic intertwines with her destiny. The journey becomes a transformative experience, \"\n",
    "        \"forging Eliana into a guardian of the labyrinth, bound to guide future wanderers through the challenges that await.\"\n",
    "    ),\n",
    "    'title': 'The Crystal Revelation',\n",
    "    'tags': ['Fantasy', 'Adventure', 'Magic', 'Mystery'],\n",
    "}\n",
    "\n",
    "# Headers for authentication\n",
    "headers = {\n",
    "    'accept': 'application/json',\n",
    "    'x-auth-token': 'OXFyWEI2d0FSNW9FcGVkTjo3YTM3MDZlZGIxNzI3YTcyNTY1NjEyYjU1MjhlYmY5NDM4ZjE4M2IyMmZkMjViNmYzZTEzMGQ3Nzk1Yjc4N2Nm',  # Replace with your actual API key\n",
    "}\n",
    "\n",
    "# Make a POST request to create the new twist\n",
    "response = requests.post(twists_url, headers=headers, json=new_twist_data)\n",
    "\n",
    "if response.status_code == 201:\n",
    "    new_twist_info = response.json()\n",
    "    print(f'New Twist created successfully: {new_twist_info}')\n",
    "else:\n",
    "    print(f'Error creating a new twist. Status code: {response.status_code}')\n",
    "    print(f'Error response: {response.json()}')\n"
   ]
  },
  {
   "cell_type": "code",
   "execution_count": 6,
   "metadata": {},
   "outputs": [],
   "source": [
    "# Regenerate a new API key and replace the old one\n",
    "new_api_key = 'OXFyWEI2d0FSNW9FcGVkTjo3YTM3MDZlZGIxNzI3YTcyNTY1NjEyYjU1MjhlYmY5NDM4ZjE4M2IyMmZkMjViNmYzZTEzMGQ3Nzk1Yjc4N2Nm'\n",
    "headers['x-auth-token'] = new_api_key\n"
   ]
  },
  {
   "cell_type": "code",
   "execution_count": 11,
   "metadata": {},
   "outputs": [
    {
     "name": "stdout",
     "output_type": "stream",
     "text": [
      "Error publishing the story. Status code: 404\n",
      "Error response: {'statusCode': 404, 'requestId': '455bbd06e5ad5cebf212a7eaa1d041b6', 'message': 'Cannot POST /api/v2/stories/VjRM6ob0XZKA8Q4y/publish', 'error': 'Not Found'}\n"
     ]
    }
   ],
   "source": [
    "import requests\n",
    "\n",
    "# Use the hashId of the story you want to publish\n",
    "story_hash_to_publish = 'VjRM6ob0XZKA8Q4y'  # Replace this with your actual hashId\n",
    "\n",
    "# URL for publishing a story\n",
    "publish_story_url = f'https://story3.com/api/v2/stories/{story_hash_to_publish}/publish'\n",
    "\n",
    "# Make a POST request to publish the story\n",
    "publish_response = requests.post(publish_story_url, headers=headers)\n",
    "\n",
    "if publish_response.status_code == 200:\n",
    "    print(f'Story successfully published: {publish_response.json()}')\n",
    "else:\n",
    "    print(f'Error publishing the story. Status code: {publish_response.status_code}')\n",
    "    try:\n",
    "        error_response_json = publish_response.json()\n",
    "        print(f'Error response: {error_response_json}')\n",
    "    except Exception as e:\n",
    "        print(f'Error decoding JSON response: {e}')\n",
    "        print(f'Raw response content: {publish_response.content}')\n"
   ]
  },
  {
   "cell_type": "code",
   "execution_count": null,
   "metadata": {},
   "outputs": [],
   "source": []
  }
 ],
 "metadata": {
  "kernelspec": {
   "display_name": "Python 3",
   "language": "python",
   "name": "python3"
  },
  "language_info": {
   "codemirror_mode": {
    "name": "ipython",
    "version": 3
   },
   "file_extension": ".py",
   "mimetype": "text/x-python",
   "name": "python",
   "nbconvert_exporter": "python",
   "pygments_lexer": "ipython3",
   "version": "3.12.0"
  }
 },
 "nbformat": 4,
 "nbformat_minor": 2
}
