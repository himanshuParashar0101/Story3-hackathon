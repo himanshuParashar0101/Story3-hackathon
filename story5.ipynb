{
 "cells": [
  {
   "cell_type": "code",
   "execution_count": 5,
   "metadata": {},
   "outputs": [
    {
     "name": "stdout",
     "output_type": "stream",
     "text": [
      "New Story created successfully: {'hashId': 'jm64zJ31OpwYReW5', 'authorId': '1932', 'title': 'The Galactic Nexus', 'body': 'In the heart of the Milky Way, a cosmic phenomenon known as the Galactic Nexus awaits discovery. This astral gateway connects distant star systems and conceals the secrets of ancient civilizations. A team of intrepid explorers embarks on a journey to unravel the mysteries of the Galactic Nexus.\\n\\nAs they navigate through celestial currents and navigate past quasars, the explorers encounter sentient nebulae, celestial guardians, and echoes of long-lost spacefarers. Each twist in their journey brings them closer to the core of the Nexus, where a cosmic revelation awaits.', 'lang': 'en', 'createdAt': '2024-01-07T15:12:29.405Z', 'updatedAt': '2024-01-07T15:12:29.405Z', 'status': 'draft', 'monetization_option': 'dynamic'}\n",
      "New Twist created successfully: {'hashId': 'Q04pmJRLaxwbOW6N', 'authorId': '1932', 'title': 'Harmony of Celestial Dance', 'body': 'As the explorers delve deeper into the Galactic Nexus, they discover that the astral gateway is a living entity, pulsating with the energy of a thousand stars. The Nexus communicates through sublime visions, revealing the interconnectedness of galaxies and the cosmic balance that must be maintained to preserve the fabric of the universe.\\n\\nGuided by the wisdom of the Nexus, the explorers become cosmic ambassadors, entrusted with the task of fostering harmony among the celestial realms. Their journey transforms into a cosmic ballet, where the dance of galaxies echoes the symphony of the Galactic Nexus.', 'lang': 'en', 'createdAt': '2024-01-07T15:12:32.569Z', 'updatedAt': '2024-01-07T15:12:32.569Z', 'status': 'draft', 'monetization_option': 'dynamic', 'hashParentId': 'jm64zJ31OpwYReW5', 'hashRootId': 'jm64zJ31OpwYReW5', 'isExtraTwist': False, 'closestHashRootId': 'jm64zJ31OpwYReW5'}\n"
     ]
    }
   ],
   "source": [
    "import requests\n",
    "\n",
    "# Base URL for the Story3 API\n",
    "base_url = 'https://story3.com/api/v2'\n",
    "\n",
    "# Your API key\n",
    "api_key = 'OXFyWEI2d0FSNW9FcGVkTjo3YTM3MDZlZGIxNzI3YTcyNTY1NjEyYjU1MjhlYmY5NDM4ZjE4M2IyMmZkMjViNmYzZTEzMGQ3Nzk1Yjc4N2Nm'  # Replace with your actual API key\n",
    "\n",
    "# Headers for authentication\n",
    "headers = {\n",
    "    'accept': 'application/json',\n",
    "    'x-auth-token': api_key,\n",
    "}\n",
    "\n",
    "# Create a new story\n",
    "new_story_data = {\n",
    "    'title': 'The Galactic Nexus',\n",
    "    'body': (\n",
    "        \"In the heart of the Milky Way, a cosmic phenomenon known as the Galactic Nexus awaits discovery. \"\n",
    "        \"This astral gateway connects distant star systems and conceals the secrets of ancient civilizations. \"\n",
    "        \"A team of intrepid explorers embarks on a journey to unravel the mysteries of the Galactic Nexus.\\n\\n\"\n",
    "        \"As they navigate through celestial currents and navigate past quasars, the explorers encounter \"\n",
    "        \"sentient nebulae, celestial guardians, and echoes of long-lost spacefarers. Each twist in their journey \"\n",
    "        \"brings them closer to the core of the Nexus, where a cosmic revelation awaits.\"\n",
    "    ),\n",
    "    'tags': ['Space', 'Exploration', 'Cosmic', 'Adventure'],\n",
    "}\n",
    "\n",
    "create_story_url = f'{base_url}/stories'\n",
    "\n",
    "# Make a POST request to create the new story\n",
    "response = requests.post(create_story_url, headers=headers, json=new_story_data)\n",
    "\n",
    "if response.status_code == 201:\n",
    "    new_story_info = response.json()\n",
    "    print(f'New Story created successfully: {new_story_info}')\n",
    "else:\n",
    "    print(f'Error creating a new story. Status code: {response.status_code}')\n",
    "    print(f'Error response: {response.json()}')\n",
    "\n",
    "# Get the hashId of the newly created story\n",
    "selected_story_hash = new_story_info['hashId']\n",
    "\n",
    "# Create a new twist for the story\n",
    "new_twist_data = {\n",
    "    'hashId': selected_story_hash,\n",
    "    'hashParentId': selected_story_hash,\n",
    "    'body': (\n",
    "        \"As the explorers delve deeper into the Galactic Nexus, they discover that the astral gateway \"\n",
    "        \"is a living entity, pulsating with the energy of a thousand stars. The Nexus communicates through \"\n",
    "        \"sublime visions, revealing the interconnectedness of galaxies and the cosmic balance that must be \"\n",
    "        \"maintained to preserve the fabric of the universe.\\n\\n\"\n",
    "        \"Guided by the wisdom of the Nexus, the explorers become cosmic ambassadors, entrusted with the \"\n",
    "        \"task of fostering harmony among the celestial realms. Their journey transforms into a cosmic ballet, \"\n",
    "        \"where the dance of galaxies echoes the symphony of the Galactic Nexus.\"\n",
    "    ),\n",
    "    'title': 'Harmony of Celestial Dance',\n",
    "    'tags': ['Cosmic', 'Harmony', 'Interconnectedness', 'Revelation'],\n",
    "}\n",
    "\n",
    "create_twist_url = f'{base_url}/twists'\n",
    "\n",
    "# Make a POST request to create the new twist\n",
    "response = requests.post(create_twist_url, headers=headers, json=new_twist_data)\n",
    "\n",
    "if response.status_code == 201:\n",
    "    new_twist_info = response.json()\n",
    "    print(f'New Twist created successfully: {new_twist_info}')\n",
    "else:\n",
    "    print(f'Error creating a new twist. Status code: {response.status_code}')\n",
    "    print(f'Error response: {response.json()}')\n"
   ]
  },
  {
   "cell_type": "code",
   "execution_count": 8,
   "metadata": {},
   "outputs": [
    {
     "name": "stdout",
     "output_type": "stream",
     "text": [
      "New Twist created successfully: {'hashId': 'Rb32VJY4MeoA50gY', 'authorId': '1932', 'title': 'The Dimensional Rift', 'body': 'Amidst the vastness of space, the explorers discover a hidden portal leading to a parallel dimension. This dimension challenges their understanding of reality, where gravity behaves differently, and time is a fluid concept. The parallel dimension holds the key to unlocking the ultimate truth behind the Galactic Quest. As they navigate this surreal realm, the explorers must confront echoes of their own fears and desires, unraveling the fabric of spacetime itself.', 'lang': 'en', 'createdAt': '2024-01-07T15:13:49.270Z', 'updatedAt': '2024-01-07T15:13:49.270Z', 'status': 'draft', 'monetization_option': 'dynamic', 'hashParentId': 'jm64zJ31OpwYReW5', 'hashRootId': 'jm64zJ31OpwYReW5', 'isExtraTwist': False, 'closestHashRootId': 'jm64zJ31OpwYReW5'}\n"
     ]
    }
   ],
   "source": [
    "selected_story_hash = new_story_info['hashId']\n",
    "\n",
    "# URL for creating a new twist\n",
    "twists_url = 'https://story3.com/api/v2/twists'\n",
    "\n",
    "# New twist data\n",
    "new_twist_data = {\n",
    "    'hashId': selected_story_hash,\n",
    "    'hashParentId': selected_story_hash,\n",
    "    'body': (\n",
    "        \"Amidst the vastness of space, the explorers discover a hidden portal leading to a parallel dimension. \"\n",
    "        \"This dimension challenges their understanding of reality, where gravity behaves differently, and time is a fluid concept. \"\n",
    "        \"The parallel dimension holds the key to unlocking the ultimate truth behind the Galactic Quest. \"\n",
    "        \"As they navigate this surreal realm, the explorers must confront echoes of their own fears and desires, \"\n",
    "        \"unraveling the fabric of spacetime itself.\"\n",
    "    ),\n",
    "    'title': 'The Dimensional Rift',\n",
    "    'tags': ['Sci-Fi', 'Adventure', 'Space', 'Parallel Dimension'],\n",
    "}\n",
    "\n",
    "# Make a POST request to create the new twist\n",
    "response = requests.post(twists_url, headers=headers, json=new_twist_data)\n",
    "\n",
    "if response.status_code == 201:\n",
    "    new_twist_info = response.json()\n",
    "    print(f'New Twist created successfully: {new_twist_info}')\n",
    "else:\n",
    "    print(f'Error creating a new twist. Status code: {response.status_code}')\n",
    "    print(f'Error response: {response.json()}')\n"
   ]
  },
  {
   "cell_type": "code",
   "execution_count": null,
   "metadata": {},
   "outputs": [],
   "source": []
  }
 ],
 "metadata": {
  "kernelspec": {
   "display_name": "Python 3",
   "language": "python",
   "name": "python3"
  },
  "language_info": {
   "codemirror_mode": {
    "name": "ipython",
    "version": 3
   },
   "file_extension": ".py",
   "mimetype": "text/x-python",
   "name": "python",
   "nbconvert_exporter": "python",
   "pygments_lexer": "ipython3",
   "version": "3.12.0"
  }
 },
 "nbformat": 4,
 "nbformat_minor": 2
}
